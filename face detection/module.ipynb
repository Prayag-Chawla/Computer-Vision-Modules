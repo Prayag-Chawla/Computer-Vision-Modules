{
 "cells": [
  {
   "cell_type": "code",
   "execution_count": 1,
   "metadata": {},
   "outputs": [
    {
     "ename": "KeyboardInterrupt",
     "evalue": "",
     "output_type": "error",
     "traceback": [
      "\u001b[1;31m---------------------------------------------------------------------------\u001b[0m",
      "\u001b[1;31mKeyboardInterrupt\u001b[0m                         Traceback (most recent call last)",
      "\u001b[1;32md:\\Prayag Files\\Coding\\Languages and related stuufs\\Python\\Computer Vision Course\\face detection\\module.ipynb Cell 1\u001b[0m line \u001b[0;36m6\n\u001b[0;32m     <a href='vscode-notebook-cell:/d%3A/Prayag%20Files/Coding/Languages%20and%20related%20stuufs/Python/Computer%20Vision%20Course/face%20detection/module.ipynb#W0sZmlsZQ%3D%3D?line=58'>59</a>\u001b[0m     detector\u001b[39m.\u001b[39mrun_webcam()\n\u001b[0;32m     <a href='vscode-notebook-cell:/d%3A/Prayag%20Files/Coding/Languages%20and%20related%20stuufs/Python/Computer%20Vision%20Course/face%20detection/module.ipynb#W0sZmlsZQ%3D%3D?line=60'>61</a>\u001b[0m \u001b[39mif\u001b[39;00m \u001b[39m__name__\u001b[39m \u001b[39m==\u001b[39m \u001b[39m\"\u001b[39m\u001b[39m__main__\u001b[39m\u001b[39m\"\u001b[39m:\n\u001b[1;32m---> <a href='vscode-notebook-cell:/d%3A/Prayag%20Files/Coding/Languages%20and%20related%20stuufs/Python/Computer%20Vision%20Course/face%20detection/module.ipynb#W0sZmlsZQ%3D%3D?line=61'>62</a>\u001b[0m     main()\n",
      "\u001b[1;32md:\\Prayag Files\\Coding\\Languages and related stuufs\\Python\\Computer Vision Course\\face detection\\module.ipynb Cell 1\u001b[0m line \u001b[0;36m5\n\u001b[0;32m     <a href='vscode-notebook-cell:/d%3A/Prayag%20Files/Coding/Languages%20and%20related%20stuufs/Python/Computer%20Vision%20Course/face%20detection/module.ipynb#W0sZmlsZQ%3D%3D?line=56'>57</a>\u001b[0m \u001b[39mdef\u001b[39;00m \u001b[39mmain\u001b[39m():\n\u001b[0;32m     <a href='vscode-notebook-cell:/d%3A/Prayag%20Files/Coding/Languages%20and%20related%20stuufs/Python/Computer%20Vision%20Course/face%20detection/module.ipynb#W0sZmlsZQ%3D%3D?line=57'>58</a>\u001b[0m     detector \u001b[39m=\u001b[39m FaceDetector()\n\u001b[1;32m---> <a href='vscode-notebook-cell:/d%3A/Prayag%20Files/Coding/Languages%20and%20related%20stuufs/Python/Computer%20Vision%20Course/face%20detection/module.ipynb#W0sZmlsZQ%3D%3D?line=58'>59</a>\u001b[0m     detector\u001b[39m.\u001b[39;49mrun_webcam()\n",
      "\u001b[1;32md:\\Prayag Files\\Coding\\Languages and related stuufs\\Python\\Computer Vision Course\\face detection\\module.ipynb Cell 1\u001b[0m line \u001b[0;36m3\n\u001b[0;32m     <a href='vscode-notebook-cell:/d%3A/Prayag%20Files/Coding/Languages%20and%20related%20stuufs/Python/Computer%20Vision%20Course/face%20detection/module.ipynb#W0sZmlsZQ%3D%3D?line=32'>33</a>\u001b[0m pTime \u001b[39m=\u001b[39m \u001b[39m0\u001b[39m\n\u001b[0;32m     <a href='vscode-notebook-cell:/d%3A/Prayag%20Files/Coding/Languages%20and%20related%20stuufs/Python/Computer%20Vision%20Course/face%20detection/module.ipynb#W0sZmlsZQ%3D%3D?line=34'>35</a>\u001b[0m \u001b[39mwhile\u001b[39;00m \u001b[39mTrue\u001b[39;00m:\n\u001b[1;32m---> <a href='vscode-notebook-cell:/d%3A/Prayag%20Files/Coding/Languages%20and%20related%20stuufs/Python/Computer%20Vision%20Course/face%20detection/module.ipynb#W0sZmlsZQ%3D%3D?line=35'>36</a>\u001b[0m     success, img \u001b[39m=\u001b[39m cap\u001b[39m.\u001b[39;49mread()\n\u001b[0;32m     <a href='vscode-notebook-cell:/d%3A/Prayag%20Files/Coding/Languages%20and%20related%20stuufs/Python/Computer%20Vision%20Course/face%20detection/module.ipynb#W0sZmlsZQ%3D%3D?line=37'>38</a>\u001b[0m     \u001b[39mif\u001b[39;00m \u001b[39mnot\u001b[39;00m success:\n\u001b[0;32m     <a href='vscode-notebook-cell:/d%3A/Prayag%20Files/Coding/Languages%20and%20related%20stuufs/Python/Computer%20Vision%20Course/face%20detection/module.ipynb#W0sZmlsZQ%3D%3D?line=38'>39</a>\u001b[0m         \u001b[39mprint\u001b[39m(\u001b[39m\"\u001b[39m\u001b[39mError reading frame from webcam\u001b[39m\u001b[39m\"\u001b[39m)\n",
      "\u001b[1;31mKeyboardInterrupt\u001b[0m: "
     ]
    }
   ],
   "source": [
    "import cv2\n",
    "import mediapipe as mp\n",
    "import time\n",
    "\n",
    "class FaceDetector:\n",
    "    def __init__(self, detection_confidence=0.75):\n",
    "        self.mpFaceDetection = mp.solutions.face_detection\n",
    "        self.mpDraw = mp.solutions.drawing_utils\n",
    "        self.faceDetection = self.mpFaceDetection.FaceDetection(detection_confidence)\n",
    "\n",
    "    def process_frame(self, img):\n",
    "        img_rgb = cv2.cvtColor(img, cv2.COLOR_BGR2RGB)\n",
    "        results = self.faceDetection.process(img_rgb)\n",
    "\n",
    "        if results.detections:\n",
    "            for id, detection in enumerate(results.detections):\n",
    "                bboxC = detection.location_data.relative_bounding_box\n",
    "                ih, iw, ic = img.shape\n",
    "\n",
    "                bbox = (\n",
    "                    int(bboxC.xmin * iw),\n",
    "                    int(bboxC.ymin * ih),\n",
    "                    int(bboxC.width * iw),\n",
    "                    int(bboxC.height * ih)\n",
    "                )\n",
    "\n",
    "                cv2.rectangle(img, bbox, (255, 0, 255), 2)\n",
    "                cv2.putText(img, f'{int(detection.score[0] * 100)}%', (bbox[0], bbox[1] - 20), cv2.FONT_HERSHEY_PLAIN,\n",
    "                            2, (255, 0, 255), 2)\n",
    "\n",
    "    def run_webcam(self):\n",
    "        cap = cv2.VideoCapture(0)\n",
    "        pTime = 0\n",
    "\n",
    "        while True:\n",
    "            success, img = cap.read()\n",
    "\n",
    "            if not success:\n",
    "                print(\"Error reading frame from webcam\")\n",
    "                break\n",
    "\n",
    "            self.process_frame(img)\n",
    "\n",
    "            cTime = time.time()\n",
    "            fps = 1 / (cTime - pTime)\n",
    "            pTime = cTime\n",
    "\n",
    "            cv2.putText(img, f'FPS: {int(fps)}', (20, 70), cv2.FONT_HERSHEY_PLAIN, 3, (0, 255, 0), 2)\n",
    "            cv2.imshow(\"Image\", img)\n",
    "\n",
    "            if cv2.waitKey(1) & 0xFF == 27:  # Press 'Esc' to exit\n",
    "                break\n",
    "\n",
    "        cap.release()\n",
    "        cv2.destroyAllWindows()\n",
    "\n",
    "def main():\n",
    "    detector = FaceDetector()\n",
    "    detector.run_webcam()\n",
    "\n",
    "if __name__ == \"__main__\":\n",
    "    main()\n"
   ]
  }
 ],
 "metadata": {
  "kernelspec": {
   "display_name": "Python 3",
   "language": "python",
   "name": "python3"
  },
  "language_info": {
   "codemirror_mode": {
    "name": "ipython",
    "version": 3
   },
   "file_extension": ".py",
   "mimetype": "text/x-python",
   "name": "python",
   "nbconvert_exporter": "python",
   "pygments_lexer": "ipython3",
   "version": "3.11.0"
  }
 },
 "nbformat": 4,
 "nbformat_minor": 2
}
