{
 "cells": [
  {
   "cell_type": "code",
   "execution_count": 3,
   "metadata": {},
   "outputs": [],
   "source": [
    "import cv2\n",
    "import mediapipe as mp\n",
    "import time\n"
   ]
  },
  {
   "cell_type": "code",
   "execution_count": 4,
   "metadata": {},
   "outputs": [
    {
     "name": "stdout",
     "output_type": "stream",
     "text": [
      "Error reading frame from webcam\n"
     ]
    }
   ],
   "source": [
    "import cv2\n",
    "import mediapipe as mp\n",
    "import time\n",
    "\n",
    "class FaceDetector:\n",
    "    def __init__(self, detection_confidence=0.75):\n",
    "        self.mpFaceDetection = mp.solutions.face_detection\n",
    "        self.mpDraw = mp.solutions.drawing_utils\n",
    "        self.faceDetection = self.mpFaceDetection.FaceDetection(detection_confidence)\n",
    "\n",
    "    def process_frame(self, img):\n",
    "        img_rgb = cv2.cvtColor(img, cv2.COLOR_BGR2RGB)\n",
    "        results = self.faceDetection.process(img_rgb)\n",
    "\n",
    "        if results.detections:\n",
    "            for id, detection in enumerate(results.detections):\n",
    "                bboxC = detection.location_data.relative_bounding_box\n",
    "                ih, iw, ic = img.shape\n",
    "\n",
    "                bbox = (\n",
    "                    int(bboxC.xmin * iw),\n",
    "                    int(bboxC.ymin * ih),\n",
    "                    int(bboxC.width * iw),\n",
    "                    int(bboxC.height * ih)\n",
    "                )\n",
    "\n",
    "                cv2.rectangle(img, bbox, (255, 0, 255), 2)\n",
    "                cv2.putText(img, f'{int(detection.score[0] * 100)}%', (bbox[0], bbox[1] - 20), cv2.FONT_HERSHEY_PLAIN,\n",
    "                            2, (255, 0, 255), 2)\n",
    "\n",
    "    def run_webcam(self):\n",
    "        cap = cv2.VideoCapture(0)\n",
    "        pTime = 0\n",
    "\n",
    "        while True:\n",
    "            success, img = cap.read()\n",
    "\n",
    "            if not success:\n",
    "                print(\"Error reading frame from webcam\")\n",
    "                break\n",
    "\n",
    "            self.process_frame(img)\n",
    "\n",
    "            cTime = time.time()\n",
    "            fps = 1 / (cTime - pTime)\n",
    "            pTime = cTime\n",
    "\n",
    "            cv2.putText(img, f'FPS: {int(fps)}', (20, 70), cv2.FONT_HERSHEY_PLAIN, 3, (0, 255, 0), 2)\n",
    "            cv2.imshow(\"Image\", img)\n",
    "\n",
    "            if cv2.waitKey(1) & 0xFF == 27:  # Press 'Esc' to exit\n",
    "                break\n",
    "\n",
    "        cap.release()\n",
    "        cv2.destroyAllWindows()\n",
    "\n",
    "def main():\n",
    "    detector = FaceDetector()\n",
    "    detector.run_webcam()\n",
    "\n",
    "if __name__ == \"__main__\":\n",
    "    main()\n"
   ]
  },
  {
   "cell_type": "code",
   "execution_count": null,
   "metadata": {},
   "outputs": [],
   "source": []
  }
 ],
 "metadata": {
  "kernelspec": {
   "display_name": "Python 3",
   "language": "python",
   "name": "python3"
  },
  "language_info": {
   "codemirror_mode": {
    "name": "ipython",
    "version": 3
   },
   "file_extension": ".py",
   "mimetype": "text/x-python",
   "name": "python",
   "nbconvert_exporter": "python",
   "pygments_lexer": "ipython3",
   "version": "3.11.0"
  }
 },
 "nbformat": 4,
 "nbformat_minor": 2
}
